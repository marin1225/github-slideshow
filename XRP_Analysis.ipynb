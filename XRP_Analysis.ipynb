{
  "nbformat": 4,
  "nbformat_minor": 0,
  "metadata": {
    "colab": {
      "name": "XRP Analysis",
      "provenance": [],
      "collapsed_sections": [],
      "include_colab_link": true
    },
    "kernelspec": {
      "name": "python3",
      "display_name": "Python 3"
    },
    "language_info": {
      "name": "python"
    }
  },
  "cells": [
    {
      "cell_type": "markdown",
      "metadata": {
        "id": "view-in-github",
        "colab_type": "text"
      },
      "source": [
        "<a href=\"https://colab.research.google.com/github/marin1225/github-slideshow/blob/master/XRP_Analysis.ipynb\" target=\"_parent\"><img src=\"https://colab.research.google.com/assets/colab-badge.svg\" alt=\"Open In Colab\"/></a>"
      ]
    },
    {
      "cell_type": "markdown",
      "metadata": {
        "id": "Ux5l1RJu28vc"
      },
      "source": [
        "Wrangring trend data from Google Trends with pytrends. Collected daily data from 01/22/2015 through 04/25/2021, and put them all together, and downloaded as csv file.\n",
        "\n",
        "Data Refference:Kaggle:https://www.kaggle.com/kaushiksuresh147/top-10-cryptocurrencies-historical-dataset?select=XRP+Historical+Data.csv\n",
        "GoogleTrends:https://trends.google.com/trends/explore?date=2015-01-22%202021-04-25&geo=US&q=xrp\n"
      ]
    },
    {
      "cell_type": "code",
      "metadata": {
        "colab": {
          "base_uri": "https://localhost:8080/"
        },
        "id": "OQpiuLZcaa-w",
        "outputId": "96a562a3-a975-4013-97f2-29f88db59154"
      },
      "source": [
        "pip install pytrends"
      ],
      "execution_count": null,
      "outputs": [
        {
          "output_type": "stream",
          "text": [
            "Collecting pytrends\n",
            "  Downloading https://files.pythonhosted.org/packages/96/53/a4a74c33bfdbe1740183e00769377352072e64182913562daf9f5e4f1938/pytrends-4.7.3-py3-none-any.whl\n",
            "Requirement already satisfied: requests in /usr/local/lib/python3.7/dist-packages (from pytrends) (2.23.0)\n",
            "Requirement already satisfied: lxml in /usr/local/lib/python3.7/dist-packages (from pytrends) (4.2.6)\n",
            "Requirement already satisfied: pandas>=0.25 in /usr/local/lib/python3.7/dist-packages (from pytrends) (1.1.5)\n",
            "Requirement already satisfied: idna<3,>=2.5 in /usr/local/lib/python3.7/dist-packages (from requests->pytrends) (2.10)\n",
            "Requirement already satisfied: certifi>=2017.4.17 in /usr/local/lib/python3.7/dist-packages (from requests->pytrends) (2021.5.30)\n",
            "Requirement already satisfied: chardet<4,>=3.0.2 in /usr/local/lib/python3.7/dist-packages (from requests->pytrends) (3.0.4)\n",
            "Requirement already satisfied: urllib3!=1.25.0,!=1.25.1,<1.26,>=1.21.1 in /usr/local/lib/python3.7/dist-packages (from requests->pytrends) (1.24.3)\n",
            "Requirement already satisfied: pytz>=2017.2 in /usr/local/lib/python3.7/dist-packages (from pandas>=0.25->pytrends) (2018.9)\n",
            "Requirement already satisfied: python-dateutil>=2.7.3 in /usr/local/lib/python3.7/dist-packages (from pandas>=0.25->pytrends) (2.8.1)\n",
            "Requirement already satisfied: numpy>=1.15.4 in /usr/local/lib/python3.7/dist-packages (from pandas>=0.25->pytrends) (1.19.5)\n",
            "Requirement already satisfied: six>=1.5 in /usr/local/lib/python3.7/dist-packages (from python-dateutil>=2.7.3->pandas>=0.25->pytrends) (1.15.0)\n",
            "Installing collected packages: pytrends\n",
            "Successfully installed pytrends-4.7.3\n"
          ],
          "name": "stdout"
        }
      ]
    },
    {
      "cell_type": "code",
      "metadata": {
        "id": "fpsf__tvaK8A",
        "colab": {
          "base_uri": "https://localhost:8080/"
        },
        "outputId": "a3ee8928-4677-43e8-e7c8-221d31edb871"
      },
      "source": [
        "#importing Panda library and pytrends\n",
        "import pandas as  pd                                                                                      \n",
        "from pytrends.request import TrendReq\n",
        "\n",
        " #storing value to variables\n",
        "pytrends = TrendReq(hl='en-US', tz=360, timeout=(10,25))           \n",
        "kw_list = [\"xrp\"]\n",
        "multi_date_ranges=['2015-01-22 2015-09-22', '2015-09-23 2016-05-23' , '2016-05-24 2017-01-24', '2017-01-25 2017-09-25', '2017-09-26 2018-05-26', '2018-05-27 2019-01-27','2019-01-28 2019-09-28', '2019-09-29 2020-05-29', '2020-05-30 2021-01-30', '2021-01-31 2021-04-25']\n",
        "  \n",
        "  # create a blank dataframe to hold the results\n",
        "results = pd.DataFrame()              \n",
        "\n",
        " # creates a request to Google Trends and sets the timeframe to be the current_date in the multi_date_range list\n",
        "for current_date in multi_date_ranges:\n",
        "  pytrends.build_payload(kw_list, cat=0, timeframe=current_date, geo='', gprop='')\n",
        "\n",
        " # each time it goes through the loop, it adds the new dataframe to the existing one\n",
        "  results = results.append(pytrends.interest_over_time())\n",
        "\n",
        "# outputs the results dataframe to a CSV file\n",
        "results.to_csv(\"trends_data.csv\")\n",
        "\n",
        "print(results)"
      ],
      "execution_count": null,
      "outputs": [
        {
          "output_type": "stream",
          "text": [
            "            xrp  isPartial\n",
            "date                      \n",
            "2015-01-22   14      False\n",
            "2015-01-23   45      False\n",
            "2015-01-24    0      False\n",
            "2015-01-25   34      False\n",
            "2015-01-26   28      False\n",
            "...         ...        ...\n",
            "2021-04-21   27      False\n",
            "2021-04-22   25      False\n",
            "2021-04-23   31      False\n",
            "2021-04-24   22      False\n",
            "2021-04-25   23      False\n",
            "\n",
            "[2286 rows x 2 columns]\n"
          ],
          "name": "stdout"
        }
      ]
    },
    {
      "cell_type": "code",
      "metadata": {
        "colab": {
          "base_uri": "https://localhost:8080/"
        },
        "id": "gTA_XNnduIlY",
        "outputId": "1820713a-0eaa-42d6-d00f-207aad1336c5"
      },
      "source": [
        "#mounting Google drive to colab\n",
        "from google.colab import drive\n",
        "drive.mount('/content/gdrive')\n"
      ],
      "execution_count": 2,
      "outputs": [
        {
          "output_type": "stream",
          "text": [
            "Mounted at /content/gdrive\n"
          ],
          "name": "stdout"
        }
      ]
    },
    {
      "cell_type": "code",
      "metadata": {
        "id": "PJUQMUcmqD0d"
      },
      "source": [
        "#importing panda library\n",
        "import pandas as pd"
      ],
      "execution_count": 3,
      "outputs": []
    },
    {
      "cell_type": "code",
      "metadata": {
        "colab": {
          "base_uri": "https://localhost:8080/",
          "height": 204
        },
        "id": "miUlxp_ApgMP",
        "outputId": "ce4cbbd1-2b3a-4603-af16-5c82d68e62c9"
      },
      "source": [
        "#reading adjusted XRP search volume data into data frame\n",
        "df=pd.read_csv('/content/gdrive/My Drive/Colab Datasets/new_trends.csv') \n",
        "df.head()"
      ],
      "execution_count": 4,
      "outputs": [
        {
          "output_type": "execute_result",
          "data": {
            "text/html": [
              "<div>\n",
              "<style scoped>\n",
              "    .dataframe tbody tr th:only-of-type {\n",
              "        vertical-align: middle;\n",
              "    }\n",
              "\n",
              "    .dataframe tbody tr th {\n",
              "        vertical-align: top;\n",
              "    }\n",
              "\n",
              "    .dataframe thead th {\n",
              "        text-align: right;\n",
              "    }\n",
              "</style>\n",
              "<table border=\"1\" class=\"dataframe\">\n",
              "  <thead>\n",
              "    <tr style=\"text-align: right;\">\n",
              "      <th></th>\n",
              "      <th>date</th>\n",
              "      <th>xrp</th>\n",
              "      <th>monthly</th>\n",
              "      <th>search_vol(adjusted)</th>\n",
              "    </tr>\n",
              "  </thead>\n",
              "  <tbody>\n",
              "    <tr>\n",
              "      <th>0</th>\n",
              "      <td>1/22/15</td>\n",
              "      <td>29</td>\n",
              "      <td>1</td>\n",
              "      <td>0.29</td>\n",
              "    </tr>\n",
              "    <tr>\n",
              "      <th>1</th>\n",
              "      <td>1/23/15</td>\n",
              "      <td>30</td>\n",
              "      <td>1</td>\n",
              "      <td>0.30</td>\n",
              "    </tr>\n",
              "    <tr>\n",
              "      <th>2</th>\n",
              "      <td>1/24/15</td>\n",
              "      <td>17</td>\n",
              "      <td>1</td>\n",
              "      <td>0.17</td>\n",
              "    </tr>\n",
              "    <tr>\n",
              "      <th>3</th>\n",
              "      <td>1/25/15</td>\n",
              "      <td>17</td>\n",
              "      <td>1</td>\n",
              "      <td>0.17</td>\n",
              "    </tr>\n",
              "    <tr>\n",
              "      <th>4</th>\n",
              "      <td>1/26/15</td>\n",
              "      <td>71</td>\n",
              "      <td>1</td>\n",
              "      <td>0.71</td>\n",
              "    </tr>\n",
              "  </tbody>\n",
              "</table>\n",
              "</div>"
            ],
            "text/plain": [
              "      date  xrp  monthly  search_vol(adjusted)\n",
              "0  1/22/15   29        1                  0.29\n",
              "1  1/23/15   30        1                  0.30\n",
              "2  1/24/15   17        1                  0.17\n",
              "3  1/25/15   17        1                  0.17\n",
              "4  1/26/15   71        1                  0.71"
            ]
          },
          "metadata": {
            "tags": []
          },
          "execution_count": 4
        }
      ]
    },
    {
      "cell_type": "code",
      "metadata": {
        "colab": {
          "base_uri": "https://localhost:8080/"
        },
        "id": "fn1GT00lp8cp",
        "outputId": "d0281e68-8cba-4f9b-f647-b7e696f550a7"
      },
      "source": [
        "#checking the null value of the dataset\n",
        "null_rows=df[df.isnull(). any(axis=1)]\n",
        "null_rows.info()"
      ],
      "execution_count": null,
      "outputs": [
        {
          "output_type": "stream",
          "text": [
            "<class 'pandas.core.frame.DataFrame'>\n",
            "Int64Index: 0 entries\n",
            "Data columns (total 4 columns):\n",
            " #   Column                Non-Null Count  Dtype  \n",
            "---  ------                --------------  -----  \n",
            " 0   date                  0 non-null      object \n",
            " 1   xrp                   0 non-null      int64  \n",
            " 2   monthly               0 non-null      int64  \n",
            " 3   search_vol(adjusted)  0 non-null      float64\n",
            "dtypes: float64(1), int64(2), object(1)\n",
            "memory usage: 0.0+ bytes\n"
          ],
          "name": "stdout"
        }
      ]
    },
    {
      "cell_type": "code",
      "metadata": {
        "colab": {
          "base_uri": "https://localhost:8080/"
        },
        "id": "t1S0ukDuzwMi",
        "outputId": "661c8455-59c3-457b-8afa-d5ad059f3529"
      },
      "source": [
        "#reading csv file of XRP price data into dataframe as history_df\n",
        "history_df=pd.read_csv('/content/gdrive/My Drive/Colab Datasets/XRP Historical Data (1).csv')\n",
        "history_df.info()"
      ],
      "execution_count": null,
      "outputs": [
        {
          "output_type": "stream",
          "text": [
            "<class 'pandas.core.frame.DataFrame'>\n",
            "RangeIndex: 2286 entries, 0 to 2285\n",
            "Data columns (total 7 columns):\n",
            " #   Column    Non-Null Count  Dtype  \n",
            "---  ------    --------------  -----  \n",
            " 0   Date      2286 non-null   object \n",
            " 1   Price     2286 non-null   float64\n",
            " 2   Open      2286 non-null   float64\n",
            " 3   High      2286 non-null   float64\n",
            " 4   Low       2286 non-null   float64\n",
            " 5   Vol.      2286 non-null   object \n",
            " 6   Change %  2286 non-null   object \n",
            "dtypes: float64(4), object(3)\n",
            "memory usage: 125.1+ KB\n"
          ],
          "name": "stdout"
        }
      ]
    },
    {
      "cell_type": "code",
      "metadata": {
        "colab": {
          "base_uri": "https://localhost:8080/",
          "height": 204
        },
        "id": "zGdflPz52WBu",
        "outputId": "b2d698c5-f36e-4720-d056-fb5280a5e6c0"
      },
      "source": [
        "history_df.head()"
      ],
      "execution_count": null,
      "outputs": [
        {
          "output_type": "execute_result",
          "data": {
            "text/html": [
              "<div>\n",
              "<style scoped>\n",
              "    .dataframe tbody tr th:only-of-type {\n",
              "        vertical-align: middle;\n",
              "    }\n",
              "\n",
              "    .dataframe tbody tr th {\n",
              "        vertical-align: top;\n",
              "    }\n",
              "\n",
              "    .dataframe thead th {\n",
              "        text-align: right;\n",
              "    }\n",
              "</style>\n",
              "<table border=\"1\" class=\"dataframe\">\n",
              "  <thead>\n",
              "    <tr style=\"text-align: right;\">\n",
              "      <th></th>\n",
              "      <th>Date</th>\n",
              "      <th>Price</th>\n",
              "      <th>Open</th>\n",
              "      <th>High</th>\n",
              "      <th>Low</th>\n",
              "      <th>Vol.</th>\n",
              "      <th>Change %</th>\n",
              "    </tr>\n",
              "  </thead>\n",
              "  <tbody>\n",
              "    <tr>\n",
              "      <th>0</th>\n",
              "      <td>Apr 25, 2021</td>\n",
              "      <td>1.04990</td>\n",
              "      <td>1.05015</td>\n",
              "      <td>1.07318</td>\n",
              "      <td>1.03182</td>\n",
              "      <td>1.25B</td>\n",
              "      <td>-0.02%</td>\n",
              "    </tr>\n",
              "    <tr>\n",
              "      <th>1</th>\n",
              "      <td>Apr 24, 2021</td>\n",
              "      <td>1.05015</td>\n",
              "      <td>1.17025</td>\n",
              "      <td>1.17095</td>\n",
              "      <td>1.02325</td>\n",
              "      <td>1.69B</td>\n",
              "      <td>-10.26%</td>\n",
              "    </tr>\n",
              "    <tr>\n",
              "      <th>2</th>\n",
              "      <td>Apr 23, 2021</td>\n",
              "      <td>1.17023</td>\n",
              "      <td>1.15859</td>\n",
              "      <td>1.19593</td>\n",
              "      <td>0.89374</td>\n",
              "      <td>4.24B</td>\n",
              "      <td>0.98%</td>\n",
              "    </tr>\n",
              "    <tr>\n",
              "      <th>3</th>\n",
              "      <td>Apr 22, 2021</td>\n",
              "      <td>1.15886</td>\n",
              "      <td>1.29067</td>\n",
              "      <td>1.41758</td>\n",
              "      <td>1.10427</td>\n",
              "      <td>2.74B</td>\n",
              "      <td>-10.20%</td>\n",
              "    </tr>\n",
              "    <tr>\n",
              "      <th>4</th>\n",
              "      <td>Apr 21, 2021</td>\n",
              "      <td>1.29046</td>\n",
              "      <td>1.38614</td>\n",
              "      <td>1.46239</td>\n",
              "      <td>1.28289</td>\n",
              "      <td>2.00B</td>\n",
              "      <td>-6.90%</td>\n",
              "    </tr>\n",
              "  </tbody>\n",
              "</table>\n",
              "</div>"
            ],
            "text/plain": [
              "           Date    Price     Open     High      Low   Vol. Change %\n",
              "0  Apr 25, 2021  1.04990  1.05015  1.07318  1.03182  1.25B   -0.02%\n",
              "1  Apr 24, 2021  1.05015  1.17025  1.17095  1.02325  1.69B  -10.26%\n",
              "2  Apr 23, 2021  1.17023  1.15859  1.19593  0.89374  4.24B    0.98%\n",
              "3  Apr 22, 2021  1.15886  1.29067  1.41758  1.10427  2.74B  -10.20%\n",
              "4  Apr 21, 2021  1.29046  1.38614  1.46239  1.28289  2.00B   -6.90%"
            ]
          },
          "metadata": {
            "tags": []
          },
          "execution_count": 11
        }
      ]
    },
    {
      "cell_type": "markdown",
      "metadata": {
        "id": "ueg2Ss5UHS7i"
      },
      "source": [
        "Null(Ho): The search volume will not be a good indicator to make a trading decision.\n",
        "Alternative(Ha): The search volume will be a good indicator to make a trading decision.\n",
        "\n"
      ]
    },
    {
      "cell_type": "code",
      "metadata": {
        "id": "GB9drC-t6QQf"
      },
      "source": [
        "#importing statistics from scipy library\n",
        "from scipy import stats"
      ],
      "execution_count": null,
      "outputs": []
    },
    {
      "cell_type": "markdown",
      "metadata": {
        "id": "qQkivC6Y-XRy"
      },
      "source": [
        "Let's check the statistical description of XRP price data.\n"
      ]
    },
    {
      "cell_type": "code",
      "metadata": {
        "id": "x0u2YVbD78lf"
      },
      "source": [
        "def series_statistics(column):\n",
        "  print('statistics for column: {}'.format(column.name))\n",
        "  print('The max value in the column: {}'.format(column.max()))\n",
        "  print('The min value in the column: {}'.format(column.min()))\n",
        "  print('The mode value in the column: {}'.format(column.mode()))\n",
        "  print('The median value in the column: {}'.format(column.median()))\n",
        "  print('The mean of the column: {}'.format(column.mean()))\n",
        "  print('The std of the column: {}'.format(column.std()))"
      ],
      "execution_count": null,
      "outputs": []
    },
    {
      "cell_type": "code",
      "metadata": {
        "colab": {
          "base_uri": "https://localhost:8080/"
        },
        "id": "ngwPWQ0a8AmU",
        "outputId": "039ef942-564f-4a09-b655-081cb7c17bde"
      },
      "source": [
        "series_statistics(history_df['Price'])"
      ],
      "execution_count": null,
      "outputs": [
        {
          "output_type": "stream",
          "text": [
            "statistics for column: Price\n",
            "The max value in the column: 2.78\n",
            "The min value in the column: 0.0035600000000000002\n",
            "The mode value in the column: 0    0.008\n",
            "dtype: float64\n",
            "The median value in the column: 0.22341\n",
            "The mean of the column: 0.2582325634295709\n",
            "The std of the column: 0.31440663168278943\n"
          ],
          "name": "stdout"
        }
      ]
    },
    {
      "cell_type": "code",
      "metadata": {
        "colab": {
          "base_uri": "https://localhost:8080/"
        },
        "id": "iM33dXHv9Y_Z",
        "outputId": "abb81732-07e0-46df-a987-b5e5aa9b25dc"
      },
      "source": [
        "history_df['Price'].describe()"
      ],
      "execution_count": null,
      "outputs": [
        {
          "output_type": "execute_result",
          "data": {
            "text/plain": [
              "count    2286.000000\n",
              "mean        0.258233\n",
              "std         0.314407\n",
              "min         0.003560\n",
              "25%         0.008070\n",
              "50%         0.223410\n",
              "75%         0.326260\n",
              "max         2.780000\n",
              "Name: Price, dtype: float64"
            ]
          },
          "metadata": {
            "tags": []
          },
          "execution_count": 15
        }
      ]
    },
    {
      "cell_type": "code",
      "metadata": {
        "id": "_daF2fzFClT8"
      },
      "source": [
        "#importing matplotlib and searborn library\n",
        "import matplotlib.pyplot as plt\n",
        "import seaborn as sns\n",
        "sns.set()\n",
        "#suppressing, ignoring warnings\n",
        "import warnings\n",
        "warnings.filterwarnings(\"ignore\")"
      ],
      "execution_count": null,
      "outputs": []
    },
    {
      "cell_type": "code",
      "metadata": {
        "id": "8d5zOSwQWgmH"
      },
      "source": [
        "#downloading as a date file.\n",
        "df=pd.read_csv('/content/gdrive/My Drive/Colab Datasets/new_trends.csv', parse_dates=['date'])"
      ],
      "execution_count": null,
      "outputs": []
    },
    {
      "cell_type": "code",
      "metadata": {
        "id": "_ju4VdpwWvK9"
      },
      "source": [
        "history_df=pd.read_csv('/content/gdrive/My Drive/Colab Datasets/XRP Historical Data (1).csv', parse_dates=['Date'])"
      ],
      "execution_count": null,
      "outputs": []
    },
    {
      "cell_type": "code",
      "metadata": {
        "id": "uHaGgloJWxdZ"
      },
      "source": [
        "#concatinating datasets on date.\n",
        "concatenated1 = history_df.merge(df, left_on='Date', right_on='date') "
      ],
      "execution_count": null,
      "outputs": []
    },
    {
      "cell_type": "markdown",
      "metadata": {
        "id": "vHP_rqE78iCb"
      },
      "source": [
        "It seems to have some positive correlation at the lower left side. Price and search volume is somewhat have relation."
      ]
    },
    {
      "cell_type": "code",
      "metadata": {
        "colab": {
          "base_uri": "https://localhost:8080/",
          "height": 285
        },
        "id": "wFXMib_fW5Ge",
        "outputId": "b5a7e83a-9514-460b-c638-b9b88b728ebc"
      },
      "source": [
        "#plotting scatter plot of search volume and XRP price\n",
        "sns.scatterplot(x='search_vol(adjusted)', y='Price', data=concatenated1)\n",
        "plt.show()\n"
      ],
      "execution_count": null,
      "outputs": [
        {
          "output_type": "display_data",
          "data": {
            "image/png": "[encoded data removed]",
            "text/plain": [
              "<Figure size 432x288 with 1 Axes>"
            ]
          },
          "metadata": {
            "tags": []
          }
        }
      ]
    },
    {
      "cell_type": "markdown",
      "metadata": {
        "id": "X0tXUpMX6waT"
      },
      "source": [
        "Line chart of price and search volume from 2016 to 2021. It projects that there is some relation between two."
      ]
    },
    {
      "cell_type": "code",
      "metadata": {
        "colab": {
          "base_uri": "https://localhost:8080/",
          "height": 314
        },
        "id": "k9X0fDXQuA-N",
        "outputId": "a918f2b2-94a3-4d88-87c2-a218d4da55bc"
      },
      "source": [
        "#plotting line chart of price and search volume in one chart\n",
        "ax=history_df.plot(x='Date', y='Price', legend=False)\n",
        "ax2=ax.twinx()\n",
        "df.plot(x='date', y='search_vol(adjusted)', ax=ax2, legend=False, color='r')\n",
        "ax.figure.legend()\n",
        "\n",
        "plt.show()"
      ],
      "execution_count": null,
      "outputs": [
        {
          "output_type": "display_data",
          "data": {
            "image/png": "[encoded data removed]",
            "text/plain": [
              "<Figure size 432x288 with 2 Axes>"
            ]
          },
          "metadata": {
            "tags": []
          }
        }
      ]
    },
    {
      "cell_type": "markdown",
      "metadata": {
        "id": "Qyyf0rBg9r5B"
      },
      "source": [
        "Pearson correlation analysis shows <0.05. It means that correlation between price and search volume is significant. "
      ]
    },
    {
      "cell_type": "code",
      "metadata": {
        "colab": {
          "base_uri": "https://localhost:8080/"
        },
        "id": "pttVaSmm-B_L",
        "outputId": "9ee1b410-410c-442f-a2c6-6575a2e40a1a"
      },
      "source": [
        "#pearson correlation analsis\n",
        "stats.pearsonr(history_df['Price'], df['search_vol(adjusted)']) "
      ],
      "execution_count": null,
      "outputs": [
        {
          "output_type": "execute_result",
          "data": {
            "text/plain": [
              "(-0.017602238517685997, 0.4002328664110693)"
            ]
          },
          "metadata": {
            "tags": []
          },
          "execution_count": 22
        }
      ]
    },
    {
      "cell_type": "markdown",
      "metadata": {
        "id": "S7PmKL1Q-U2u"
      },
      "source": [
        "Let's take a closer look in shorter time range to see its significance of relation. Time range this time would be 1 year range in 2017' when the price was spiking."
      ]
    },
    {
      "cell_type": "code",
      "metadata": {
        "id": "kzkT5WppZCCi"
      },
      "source": [
        "#storing 2017's search volume data to variable closer_lookSearch\n",
        "closer_lookSearch=df.loc[(df['date']>='2017-01-01')&(df['date']<='2017-12-31'),[ 'search_vol(adjusted)', 'date']]\n",
        "\n"
      ],
      "execution_count": null,
      "outputs": []
    },
    {
      "cell_type": "code",
      "metadata": {
        "id": "qcKXOHFCqAt7"
      },
      "source": [
        "#storing 2017's XRP price to variable closer_lookPrice\n",
        "closer_lookPrice=history_df.loc[(history_df['Date']>='2017-01-01')&(history_df['Date']<='2017-12-31'), ['Price', 'Date']]#2017 XRP price"
      ],
      "execution_count": null,
      "outputs": []
    },
    {
      "cell_type": "markdown",
      "metadata": {
        "id": "3_5pjUPK_hgB"
      },
      "source": [
        "The line charts of price and search volume still shows its strong correlation even in shorter time range of 1 year."
      ]
    },
    {
      "cell_type": "code",
      "metadata": {
        "colab": {
          "base_uri": "https://localhost:8080/",
          "height": 325
        },
        "id": "hAzbtIZSuxgo",
        "outputId": "a7521a24-e5c3-473f-ee0a-4da4675618e7"
      },
      "source": [
        "#plotting dual line chart of search volume and price in 2017\n",
        "ax=closer_lookSearch.plot(x='date', y='search_vol(adjusted)', legend=False)\n",
        "ax2=ax.twinx()\n",
        "closer_lookPrice.plot(x='Date', y='Price', ax=ax2, legend=False, color='r')\n",
        "ax.figure.legend()\n",
        "\n",
        "plt.show()"
      ],
      "execution_count": null,
      "outputs": [
        {
          "output_type": "display_data",
          "data": {
            "image/png": "[encoded data removed]",
            "text/plain": [
              "<Figure size 432x288 with 2 Axes>"
            ]
          },
          "metadata": {
            "tags": []
          }
        }
      ]
    },
    {
      "cell_type": "markdown",
      "metadata": {
        "id": "62CVtIToADaU"
      },
      "source": [
        "Let's look into even shorter range. This time would be the duration of 1 month in December when the chart is spiking"
      ]
    },
    {
      "cell_type": "code",
      "metadata": {
        "id": "bIpLeGGkp8yC"
      },
      "source": [
        "#storing December data  of the search volume to  the variable\n",
        "DecSearch=df.loc[(df['date']>='2017-12-01')&(df['date']<='2017-12-31'),[ 'search_vol(adjusted)', 'date']]"
      ],
      "execution_count": null,
      "outputs": []
    },
    {
      "cell_type": "code",
      "metadata": {
        "id": "YegwRSYUzT1k"
      },
      "source": [
        "#storing December data of the price to the variable\n",
        "DecPrice=history_df.loc[(history_df['Date']>='2017-12-01')&(history_df['Date']<='2017-12-31'), ['Price', 'Date']]"
      ],
      "execution_count": null,
      "outputs": []
    },
    {
      "cell_type": "markdown",
      "metadata": {
        "id": "xi4kwC7UBtbC"
      },
      "source": [
        "The line charts are somewhat correlated, and can observe some offsets. Both line chart has 4peaks, and there seems to be some delay in between.\n",
        "\n"
      ]
    },
    {
      "cell_type": "code",
      "metadata": {
        "colab": {
          "base_uri": "https://localhost:8080/",
          "height": 349
        },
        "id": "TCERGgATzvzs",
        "outputId": "871e2d57-f17a-4c3f-a926-76291da697c3"
      },
      "source": [
        "#plotting dual line chart of search volume and price from December of 2017.\n",
        "ax=DecSearch.plot(x='date', y='search_vol(adjusted)', legend=False)\n",
        "ax2=ax.twinx()\n",
        "DecPrice.plot(x='Date', y='Price', ax=ax2, legend=False, color='r')\n",
        "ax.figure.legend()\n",
        "\n",
        "plt.show()"
      ],
      "execution_count": null,
      "outputs": [
        {
          "output_type": "display_data",
          "data": {
            "image/png": "[encoded data removed]",
            "text/plain": [
              "<Figure size 432x288 with 2 Axes>"
            ]
          },
          "metadata": {
            "tags": []
          }
        }
      ]
    },
    {
      "cell_type": "markdown",
      "metadata": {
        "id": "_T73kTCCCw4j"
      },
      "source": [
        "Pearson correlation analysis prove that there is strong relation between the price and the search volume even in the shorter scale. This result is significant because of p-value being <0.05. "
      ]
    },
    {
      "cell_type": "code",
      "metadata": {
        "colab": {
          "base_uri": "https://localhost:8080/"
        },
        "id": "XIhjotjz3NO5",
        "outputId": "613d78b6-850b-428f-b470-c3f809148ee0"
      },
      "source": [
        "#pearson correlation analysis between search volume and price in December of 2017\n",
        "stats.pearsonr(DecPrice['Price'], DecSearch['search_vol(adjusted)']) "
      ],
      "execution_count": null,
      "outputs": [
        {
          "output_type": "execute_result",
          "data": {
            "text/plain": [
              "(-0.6605814745863601, 5.246964781625161e-05)"
            ]
          },
          "metadata": {
            "tags": []
          },
          "execution_count": 29
        }
      ]
    },
    {
      "cell_type": "code",
      "metadata": {
        "id": "44WeYDsRv7iA"
      },
      "source": [
        "#importing numpy and matplotlib library\n",
        "import numpy as np\n",
        "import matplotlib.pyplot as plt\n",
        "%matplotlib inline"
      ],
      "execution_count": null,
      "outputs": []
    },
    {
      "cell_type": "code",
      "metadata": {
        "colab": {
          "base_uri": "https://localhost:8080/"
        },
        "id": "_3fa5El0Nasj",
        "outputId": "52e85eb2-93e0-42b6-ab40-5aa3fb742bfd"
      },
      "source": [
        "#check the type of the array\n",
        "type(array_of_search_vol)\n",
        "type(array_of_Price)"
      ],
      "execution_count": null,
      "outputs": [
        {
          "output_type": "execute_result",
          "data": {
            "text/plain": [
              "pandas.core.series.Series"
            ]
          },
          "metadata": {
            "tags": []
          },
          "execution_count": 79
        }
      ]
    },
    {
      "cell_type": "markdown",
      "metadata": {
        "id": "YJvlOKu8FSRc"
      },
      "source": [
        "What would be the delay between search volume and the price? Cross correlation test will give answer to the question."
      ]
    },
    {
      "cell_type": "code",
      "metadata": {
        "colab": {
          "base_uri": "https://localhost:8080/",
          "height": 149
        },
        "id": "zVhF1hlGVXD4",
        "outputId": "ff221260-2c71-41df-85a0-14594d9f213b"
      },
      "source": [
        " #storing 2017-12-04 to 2017-12-18 search vol. data\n",
        "array_of_search_vol=df.loc[(df['date']>='2017-12-04')&(df['date']<='2017-12-18'), 'search_vol(adjusted)']        \n",
        " \n",
        " #storing 2017-12-04 to 2017-12-18 Price data.\n",
        "array_of_Price=history_df.loc[(history_df['Date']>='2017-12-04')&(history_df['Date']<='2017-12-18'), 'Price']  \n",
        "\n",
        "#converting panda to numpy\n",
        "array_of_Price_array = np.array(array_of_Price)                               \n",
        "array_of_search_vol_array=np.array(array_of_search_vol) \n",
        "\n",
        "#plot graph\n",
        "fig = plt.figure()                      \n",
        "ax1 = fig.add_subplot(211) \n",
        "\n",
        "# cross correlation using\n",
        "# xcorr() function\n",
        "ax1.xcorr(array_of_search_vol_array,array_of_Price_array, usevlines=True,  \n",
        "         maxlags=10, normed=True,                                                                                                      \n",
        "         lw=2) \n",
        " \n",
        " # adding grid to the graph\n",
        "ax1.grid(True)                                       \n",
        "ax1.axhline(0, color='blue', lw=2) \n",
        "\n",
        "plt.show()            "
      ],
      "execution_count": null,
      "outputs": [
        {
          "output_type": "display_data",
          "data": {
            "image/png": "[encoded data removed]",
            "text/plain": [
              "<Figure size 432x288 with 1 Axes>"
            ]
          },
          "metadata": {
            "tags": [],
            "needs_background": "light"
          }
        }
      ]
    },
    {
      "cell_type": "markdown",
      "metadata": {
        "id": "m3vMp50CiF0E"
      },
      "source": [
        "On this plot, the correlation at lag 7.5 is approximately 0.85. Because 0.85 > 2/√10-l7.5l  the correlation is significant. You can conclude that the search volume would affect the price approximately in 7.5 days. Therefor, we could use search volume as a leading indicator to determin whether to purchace or sell XRP by forcasting 7.5 days later.\n",
        "\n"
      ]
    }
  ]
}